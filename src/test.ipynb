{
 "cells": [
  {
   "cell_type": "code",
   "execution_count": 3,
   "metadata": {},
   "outputs": [
    {
     "data": {
      "text/plain": [
       "True"
      ]
     },
     "execution_count": 3,
     "metadata": {},
     "output_type": "execute_result"
    }
   ],
   "source": [
    "from langchain_openai import AzureChatOpenAI\n",
    "from langchain_community.agent_toolkits.sql.toolkit import SQLDatabaseToolkit\n",
    "from langchain_community.utilities.sql_database import SQLDatabase\n",
    "from langchain import hub\n",
    "from dotenv import load_dotenv\n",
    "import os\n",
    "\n",
    "load_dotenv()"
   ]
  },
  {
   "cell_type": "code",
   "execution_count": 4,
   "metadata": {},
   "outputs": [],
   "source": [
    "llm = AzureChatOpenAI(\n",
    "    azure_deployment=os.environ.get(\"azure_openai_deployment\", \"\"), model=\"gpt-4o-mini\"\n",
    ")\n",
    "db = SQLDatabase.from_uri(\"sqlite:///data/library_database.sqlite\")\n",
    "toolkit = SQLDatabaseToolkit(db=db, llm=llm)"
   ]
  },
  {
   "cell_type": "code",
   "execution_count": 5,
   "metadata": {},
   "outputs": [],
   "source": [
    "prompt_template = hub.pull(\"langchain-ai/sql-agent-system-prompt\")\n",
    "system_message = prompt_template.format(dialect=\"SQLite\", top_k=5)\n"
   ]
  },
  {
   "cell_type": "code",
   "execution_count": 7,
   "metadata": {},
   "outputs": [],
   "source": [
    "#system_message += f\"\\nFormat instructions : {books_parser.get_format_instructions()}\\n\""
   ]
  },
  {
   "cell_type": "code",
   "execution_count": 84,
   "metadata": {},
   "outputs": [],
   "source": [
    "system_message = \"\"\"\n",
    "You are an agent designed to interact with a SQL database.\n",
    "Given an input question, create a syntactically correct SQLite query to run, then look at the results of the query and return the answer.\n",
    "Unless the user specifies a specific number of examples they wish to obtain, always limit your query to at most 10 results.\n",
    "You can order the results by a relevant column to return the most interesting examples in the database.\n",
    "Never query for all the columns from a specific table, only ask for the relevant columns given the question.\n",
    "You have access to tools for interacting with the database.\n",
    "Only use the below tools. Only use the information returned by the below tools to construct your final answer.\n",
    "You MUST double check your query before executing it. If you get an error while executing a query, rewrite the query and try again.\n",
    "\n",
    "DO NOT make any DML statements (INSERT, UPDATE, DELETE, DROP etc.) to the database.\n",
    "\n",
    "To start you should ALWAYS look at the tables in the database to see what you can query.\n",
    "Do NOT skip this step.\n",
    "Then you should query the schema of the most relevant tables. If a book is actively rented, you should consider it unavailable.\n",
    "If the user asks to rent a book you should ask for customer id, if the id is not in the database you should ask for the customer's name and add the customer to the database.\n",
    "\"\"\""
   ]
  },
  {
   "cell_type": "code",
   "execution_count": 8,
   "metadata": {},
   "outputs": [],
   "source": [
    "from langgraph.prebuilt import create_react_agent\n",
    "agent_executor = create_react_agent(\n",
    "    llm,\n",
    "    toolkit.get_tools(),\n",
    "    state_modifier=system_message\n",
    ")\n"
   ]
  },
  {
   "cell_type": "code",
   "execution_count": 9,
   "metadata": {},
   "outputs": [],
   "source": [
    "import pprint\n",
    "def invoke(x):\n",
    "    inv = lambda x: agent_executor.invoke({\"messages\": [(\"user\", x)]})\n",
    "    response = inv(x)\n",
    "    res = response[\"messages\"][-1].content\n",
    "    pprint.pprint(res)"
   ]
  },
  {
   "cell_type": "code",
   "execution_count": 10,
   "metadata": {},
   "outputs": [
    {
     "name": "stdout",
     "output_type": "stream",
     "text": [
      "('Yes, \"One Hundred Years of Solitude\" is available in the library. However, '\n",
      " 'it is currently rented out.')\n"
     ]
    }
   ],
   "source": [
    "user_query = \"Is one hundred years of solitude available in the library?\"\n",
    "invoke(user_query)\n"
   ]
  },
  {
   "cell_type": "code",
   "execution_count": 11,
   "metadata": {},
   "outputs": [
    {
     "name": "stdout",
     "output_type": "stream",
     "text": [
      "('Here are some history books available in the library:\\n'\n",
      " '\\n'\n",
      " '1. **The Histories** by Herodotus\\n'\n",
      " '2. **The Guns of August** by Barbara W. Tuchman\\n'\n",
      " '3. **Sapiens: A Brief History of Humankind** by Yuval Noah Harari\\n'\n",
      " '4. **The Diary of a Young Girl** by Anne Frank\\n'\n",
      " \"5. **A People's History of the United States** by Howard Zinn\\n\"\n",
      " '\\n'\n",
      " 'If you need more details or specific information, feel free to ask!')\n"
     ]
    }
   ],
   "source": [
    "user_query = \"List all the history books in the library?\"\n",
    "invoke(user_query)"
   ]
  },
  {
   "cell_type": "code",
   "execution_count": null,
   "metadata": {},
   "outputs": [],
   "source": []
  }
 ],
 "metadata": {
  "kernelspec": {
   "display_name": "BookKeeperAI-Eb8B0Jut",
   "language": "python",
   "name": "python3"
  },
  "language_info": {
   "codemirror_mode": {
    "name": "ipython",
    "version": 3
   },
   "file_extension": ".py",
   "mimetype": "text/x-python",
   "name": "python",
   "nbconvert_exporter": "python",
   "pygments_lexer": "ipython3",
   "version": "3.12.7"
  }
 },
 "nbformat": 4,
 "nbformat_minor": 2
}
