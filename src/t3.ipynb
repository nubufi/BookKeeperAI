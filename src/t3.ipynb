{
 "cells": [
  {
   "cell_type": "code",
   "execution_count": 1,
   "metadata": {},
   "outputs": [
    {
     "data": {
      "text/plain": [
       "True"
      ]
     },
     "execution_count": 1,
     "metadata": {},
     "output_type": "execute_result"
    }
   ],
   "source": [
    "from langchain_openai import AzureChatOpenAI\n",
    "from langchain_community.agent_toolkits.sql.toolkit import SQLDatabaseToolkit\n",
    "from langchain_community.utilities.sql_database import SQLDatabase\n",
    "from langchain import hub\n",
    "from dotenv import load_dotenv\n",
    "from langchain.tools import BaseTool\n",
    "import os\n",
    "\n",
    "load_dotenv()\n"
   ]
  },
  {
   "cell_type": "code",
   "execution_count": 2,
   "metadata": {},
   "outputs": [],
   "source": [
    "llm = AzureChatOpenAI(\n",
    "    azure_deployment=os.environ.get(\"azure_openai_deployment\", \"\"), model=\"gpt-4o-mini\"\n",
    ")\n",
    "db = SQLDatabase.from_uri(\"sqlite:///data/library_database.sqlite\")\n"
   ]
  },
  {
   "cell_type": "code",
   "execution_count": 37,
   "metadata": {},
   "outputs": [
    {
     "data": {
      "text/plain": [
       "'The output should be formatted as a JSON instance that conforms to the JSON schema below.\\n\\nAs an example, for the schema {\"properties\": {\"foo\": {\"title\": \"Foo\", \"description\": \"a list of strings\", \"type\": \"array\", \"items\": {\"type\": \"string\"}}}, \"required\": [\"foo\"]}\\nthe object {\"foo\": [\"bar\", \"baz\"]} is a well-formatted instance of the schema. The object {\"properties\": {\"foo\": [\"bar\", \"baz\"]}} is not well-formatted.\\n\\nHere is the output schema:\\n```\\n{\"$defs\": {\"Book\": {\"properties\": {\"isbn\": {\"description\": \"ISBN of the book\", \"title\": \"Isbn\", \"type\": \"string\"}, \"title\": {\"description\": \"title of the book\", \"title\": \"Title\", \"type\": \"string\"}, \"category\": {\"description\": \"category of the book\", \"title\": \"Category\", \"type\": \"string\"}, \"author\": {\"description\": \"author of the book\", \"title\": \"Author\", \"type\": \"string\"}, \"publisher\": {\"description\": \"publisher of the book\", \"title\": \"Publisher\", \"type\": \"string\"}, \"price\": {\"description\": \"rental price of the book\", \"title\": \"Price\", \"type\": \"number\"}}, \"required\": [\"isbn\", \"title\", \"category\", \"author\", \"publisher\", \"price\"], \"title\": \"Book\", \"type\": \"object\"}}, \"properties\": {\"books\": {\"description\": \"A list of books that match the query\", \"items\": {\"$ref\": \"#/$defs/Book\"}, \"title\": \"Books\", \"type\": \"array\"}}, \"required\": [\"books\"]}\\n```'"
      ]
     },
     "execution_count": 37,
     "metadata": {},
     "output_type": "execute_result"
    }
   ],
   "source": [
    "books_parser.get_format_instructions()"
   ]
  },
  {
   "cell_type": "code",
   "execution_count": 34,
   "metadata": {},
   "outputs": [],
   "source": [
    "from typing import Optional\n",
    "import json\n",
    "from output_parsers.books import books_parser\n",
    "\n",
    "class GetBooksTool(BaseTool):\n",
    "    name:str = \"get_books\"\n",
    "    description: str = (\n",
    "        \"Get a list of all books from the database. \"\n",
    "        \"You can optionally filter by book title or category. \"\n",
    "        \"The input should be a JSON string with the following keys\"\n",
    "        \"'book_title', 'category', 'author', 'publisher', 'min_price','max_price'\"\n",
    "        \"If you have no data for min_price and max_price, don't include them in the JSON string\"\n",
    "        f\"Format instructions: {books_parser.get_format_instructions()}\"\n",
    "    )\n",
    "    \n",
    "    def _run(self, json_data:str):\n",
    "        data = json.loads(json_data)\n",
    "        book_title = data.get(\"book_title\", \"\")\n",
    "        category = data.get(\"category\", \"\")\n",
    "        author = data.get(\"author\", \"\")\n",
    "        publisher = data.get(\"publisher\", \"\")\n",
    "        min_price = data.get(\"min_price\", 0)\n",
    "        max_price = data.get(\"max_price\", 1000)\n",
    "        \n",
    "        return self.run_query(book_title, category, author, publisher, min_price, max_price)\n",
    "\n",
    "    def run_query(self, \n",
    "            book_title: Optional[str] = \"\", \n",
    "            category: Optional[str] = \"\",\n",
    "            author: Optional[str] = \"\",\n",
    "            publisher: Optional[str] = \"\",\n",
    "            min_price: Optional[int] = 0, \n",
    "            max_price: Optional[int] = 1000):\n",
    "        # Query the books table\n",
    "        query = f\"\"\"SELECT * FROM books WHERE lower(book_title) LIKE '%{book_title.lower()}%' \n",
    "            AND category LIKE '%{category.lower()}%' \n",
    "            AND lower(author) LIKE '%{author.lower()}%' \n",
    "            AND lower(publisher) LIKE '%{publisher.lower()}%' \n",
    "            AND rental_price BETWEEN {min_price} AND {max_price}\n",
    "            \"\"\"\n",
    "        results = db.run(query)\n",
    "\n",
    "        return results"
   ]
  },
  {
   "cell_type": "code",
   "execution_count": 29,
   "metadata": {},
   "outputs": [],
   "source": [
    "class CheckAvailabilityTool(BaseTool):\n",
    "    name:str = \"check_availability\"\n",
    "    description:str = (\n",
    "        \"Check if a book is available for rent.\" \n",
    "        \"In order to be available, the book most exist in the database and currently not rented out.\"\n",
    "        \"The input should be isbn\"\n",
    "    )\n",
    "    \n",
    "    def _run(self, isbn: Optional[str] = \"\"):\n",
    "        if isbn:\n",
    "            # Query the rentals table\n",
    "            result = db.run(f\"\"\"\n",
    "                SELECT * FROM rentals WHERE isbn='{isbn}' AND return_date IS NULL;\n",
    "            \"\"\")\n",
    "\n",
    "            return \"Available\" if not result else \"Not Available\"\n",
    "\n",
    "        return \"Not found\""
   ]
  },
  {
   "cell_type": "code",
   "execution_count": 30,
   "metadata": {},
   "outputs": [],
   "source": [
    "from datetime import datetime"
   ]
  },
  {
   "cell_type": "code",
   "execution_count": 31,
   "metadata": {},
   "outputs": [],
   "source": [
    "customer_id = 2\n",
    "class RentBookTool(BaseTool):\n",
    "    name:str = \"rent_book\"\n",
    "    description:str = (\n",
    "        \"Rent a book to a user if the book is available for rent.\"\n",
    "        \"Use global customer_id variable and take isbn as input variable.\"\n",
    "    )\n",
    "\n",
    "    def _run(self, isbn: str):\n",
    "        # Insert a new rental record\n",
    "        today = datetime.now().strftime(\"%d.%m.%Y\")\n",
    "        db.run(f\"\"\"\n",
    "            INSERT INTO rentals (isbn, customer_id, rent_date)\n",
    "            VALUES ('{isbn}', {customer_id}, '{today}')\n",
    "        \"\"\")\n",
    "        return \"Book rented successfully\" "
   ]
  },
  {
   "cell_type": "code",
   "execution_count": 35,
   "metadata": {},
   "outputs": [],
   "source": [
    "from langchain.agents import initialize_agent, Tool\n",
    "\n",
    "tools = [GetBooksTool(),CheckAvailabilityTool(),RentBookTool()]\n",
    "agent = initialize_agent(tools,llm,verbose=True)"
   ]
  },
  {
   "cell_type": "code",
   "execution_count": 36,
   "metadata": {},
   "outputs": [
    {
     "name": "stdout",
     "output_type": "stream",
     "text": [
      "\n",
      "\n",
      "\u001b[1m> Entering new AgentExecutor chain...\u001b[0m\n"
     ]
    },
    {
     "ename": "ValueError",
     "evalue": "Missing some input keys: {'\"properties\"', 'input', '\"$defs\"'}",
     "output_type": "error",
     "traceback": [
      "\u001b[0;31m---------------------------------------------------------------------------\u001b[0m",
      "\u001b[0;31mValueError\u001b[0m                                Traceback (most recent call last)",
      "Cell \u001b[0;32mIn[36], line 1\u001b[0m\n\u001b[0;32m----> 1\u001b[0m output \u001b[38;5;241m=\u001b[39m \u001b[43magent\u001b[49m\u001b[38;5;241;43m.\u001b[39;49m\u001b[43minvoke\u001b[49m\u001b[43m(\u001b[49m\u001b[38;5;124;43m\"\u001b[39;49m\u001b[38;5;124;43mCan you list the history books in your library?\u001b[39;49m\u001b[38;5;124;43m\"\u001b[39;49m\u001b[43m)\u001b[49m\n",
      "File \u001b[0;32m~/.local/share/virtualenvs/BookKeeperAI-_fJ29yFw/lib/python3.12/site-packages/langchain/chains/base.py:170\u001b[0m, in \u001b[0;36mChain.invoke\u001b[0;34m(self, input, config, **kwargs)\u001b[0m\n\u001b[1;32m    168\u001b[0m \u001b[38;5;28;01mexcept\u001b[39;00m \u001b[38;5;167;01mBaseException\u001b[39;00m \u001b[38;5;28;01mas\u001b[39;00m e:\n\u001b[1;32m    169\u001b[0m     run_manager\u001b[38;5;241m.\u001b[39mon_chain_error(e)\n\u001b[0;32m--> 170\u001b[0m     \u001b[38;5;28;01mraise\u001b[39;00m e\n\u001b[1;32m    171\u001b[0m run_manager\u001b[38;5;241m.\u001b[39mon_chain_end(outputs)\n\u001b[1;32m    173\u001b[0m \u001b[38;5;28;01mif\u001b[39;00m include_run_info:\n",
      "File \u001b[0;32m~/.local/share/virtualenvs/BookKeeperAI-_fJ29yFw/lib/python3.12/site-packages/langchain/chains/base.py:158\u001b[0m, in \u001b[0;36mChain.invoke\u001b[0;34m(self, input, config, **kwargs)\u001b[0m\n\u001b[1;32m    151\u001b[0m run_manager \u001b[38;5;241m=\u001b[39m callback_manager\u001b[38;5;241m.\u001b[39mon_chain_start(\n\u001b[1;32m    152\u001b[0m     \u001b[38;5;28;01mNone\u001b[39;00m,\n\u001b[1;32m    153\u001b[0m     inputs,\n\u001b[1;32m    154\u001b[0m     run_id,\n\u001b[1;32m    155\u001b[0m     name\u001b[38;5;241m=\u001b[39mrun_name,\n\u001b[1;32m    156\u001b[0m )\n\u001b[1;32m    157\u001b[0m \u001b[38;5;28;01mtry\u001b[39;00m:\n\u001b[0;32m--> 158\u001b[0m     \u001b[38;5;28;43mself\u001b[39;49m\u001b[38;5;241;43m.\u001b[39;49m\u001b[43m_validate_inputs\u001b[49m\u001b[43m(\u001b[49m\u001b[43minputs\u001b[49m\u001b[43m)\u001b[49m\n\u001b[1;32m    159\u001b[0m     outputs \u001b[38;5;241m=\u001b[39m (\n\u001b[1;32m    160\u001b[0m         \u001b[38;5;28mself\u001b[39m\u001b[38;5;241m.\u001b[39m_call(inputs, run_manager\u001b[38;5;241m=\u001b[39mrun_manager)\n\u001b[1;32m    161\u001b[0m         \u001b[38;5;28;01mif\u001b[39;00m new_arg_supported\n\u001b[1;32m    162\u001b[0m         \u001b[38;5;28;01melse\u001b[39;00m \u001b[38;5;28mself\u001b[39m\u001b[38;5;241m.\u001b[39m_call(inputs)\n\u001b[1;32m    163\u001b[0m     )\n\u001b[1;32m    165\u001b[0m     final_outputs: Dict[\u001b[38;5;28mstr\u001b[39m, Any] \u001b[38;5;241m=\u001b[39m \u001b[38;5;28mself\u001b[39m\u001b[38;5;241m.\u001b[39mprep_outputs(\n\u001b[1;32m    166\u001b[0m         inputs, outputs, return_only_outputs\n\u001b[1;32m    167\u001b[0m     )\n",
      "File \u001b[0;32m~/.local/share/virtualenvs/BookKeeperAI-_fJ29yFw/lib/python3.12/site-packages/langchain/chains/base.py:290\u001b[0m, in \u001b[0;36mChain._validate_inputs\u001b[0;34m(self, inputs)\u001b[0m\n\u001b[1;32m    288\u001b[0m missing_keys \u001b[38;5;241m=\u001b[39m \u001b[38;5;28mset\u001b[39m(\u001b[38;5;28mself\u001b[39m\u001b[38;5;241m.\u001b[39minput_keys)\u001b[38;5;241m.\u001b[39mdifference(inputs)\n\u001b[1;32m    289\u001b[0m \u001b[38;5;28;01mif\u001b[39;00m missing_keys:\n\u001b[0;32m--> 290\u001b[0m     \u001b[38;5;28;01mraise\u001b[39;00m \u001b[38;5;167;01mValueError\u001b[39;00m(\u001b[38;5;124mf\u001b[39m\u001b[38;5;124m\"\u001b[39m\u001b[38;5;124mMissing some input keys: \u001b[39m\u001b[38;5;132;01m{\u001b[39;00mmissing_keys\u001b[38;5;132;01m}\u001b[39;00m\u001b[38;5;124m\"\u001b[39m)\n",
      "\u001b[0;31mValueError\u001b[0m: Missing some input keys: {'\"properties\"', 'input', '\"$defs\"'}"
     ]
    }
   ],
   "source": [
    "output = agent.invoke(\"Can you list the history books in your library?\")"
   ]
  },
  {
   "cell_type": "code",
   "execution_count": 20,
   "metadata": {},
   "outputs": [
    {
     "name": "stdout",
     "output_type": "stream",
     "text": [
      "('Here are the history books available in the library:\\n'\n",
      " '\\n'\n",
      " '1. **The Histories** by Herodotus (ISBN: 978-0-14-044930-3) - $5.50 '\n",
      " '(Publisher: Penguin Classics)\\n'\n",
      " '2. **The Guns of August** by Barbara W. Tuchman (ISBN: 978-0-19-280551-1) - '\n",
      " '$7.00 (Publisher: Oxford University Press)\\n'\n",
      " '3. **Sapiens: A Brief History of Humankind** by Yuval Noah Harari (ISBN: '\n",
      " '978-0-307-58837-1) - $8.00 (Publisher: Harper Perennial)\\n'\n",
      " '4. **The Diary of a Young Girl** by Anne Frank (ISBN: 978-0-375-41398-8) - '\n",
      " '$6.50 (Publisher: Bantam)\\n'\n",
      " \"5. **A People's History of the United States** by Howard Zinn (ISBN: \"\n",
      " '978-0-393-05081-8) - $9.00 (Publisher: Harper Perennial)\\n'\n",
      " '6. **Guns, Germs, and Steel: The Fates of Human Societies** by Jared Diamond '\n",
      " '(ISBN: 978-0-393-91257-8) - $7.00 (Publisher: W. W. Norton & Company)\\n'\n",
      " '7. **1491: New Revelations of the Americas Before Columbus** by Charles C. '\n",
      " 'Mann (ISBN: 978-0-7432-7357-1) - $6.50 (Publisher: Vintage Books)')\n"
     ]
    }
   ],
   "source": [
    "import pprint\n",
    "pprint.pprint(output['output'])"
   ]
  },
  {
   "cell_type": "code",
   "execution_count": 21,
   "metadata": {},
   "outputs": [
    {
     "name": "stdout",
     "output_type": "stream",
     "text": [
      "[]\n"
     ]
    }
   ],
   "source": [
    "from langchain.output_parsers import S\n",
    "\n",
    "parser = MarkdownListOutputParser()\n",
    "parsed_output = parser.parse(output['output'])\n",
    "\n",
    "print(parsed_output)"
   ]
  },
  {
   "cell_type": "code",
   "execution_count": null,
   "metadata": {},
   "outputs": [],
   "source": []
  }
 ],
 "metadata": {
  "kernelspec": {
   "display_name": "BookKeeperAI-_fJ29yFw",
   "language": "python",
   "name": "python3"
  },
  "language_info": {
   "codemirror_mode": {
    "name": "ipython",
    "version": 3
   },
   "file_extension": ".py",
   "mimetype": "text/x-python",
   "name": "python",
   "nbconvert_exporter": "python",
   "pygments_lexer": "ipython3",
   "version": "3.12.7"
  }
 },
 "nbformat": 4,
 "nbformat_minor": 2
}
